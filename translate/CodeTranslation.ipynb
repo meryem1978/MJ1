{
 "cells": [
  {
   "cell_type": "markdown",
   "metadata": {},
   "source": [
    "# Code Translator for FHE\n",
    "We need to transcribe a lot of code to work with Microsoft's SEAL Library. Therefore, we need a parser that reads in code, parses it lexically, and then outputs it in SEAL's format. Here's an example snippet that we have to parse and convert to SEAL's format.\n",
    "\n",
    "        tmp0 = data_ptr[0] + data_ptr[7];\n",
    "        tmp7 = data_ptr[0] - data_ptr[7];\n",
    "        data_ptr[0] = tmp10 + tmp11;\n",
    "        data_ptr[4] = tmp10 - tmp11;\n",
    "        z1 = (tmp12 + tmp13) * 0.541196100;\n",
    "        data_ptr[2] = z1 + tmp13 * 0.765366865;\n",
    "        data_ptr[6] = z1 + tmp12 * - 1.847759065;\n",
    "        z1 = tmp4 + tmp7;\n",
    "        z5 = (z3 + z4) * 1.175875602;\n",
    "        tmp4 *= 0.298631336;\n",
    "        z1 *= -0.899976223;\n",
    "        z3 += z5;\n",
    "        data_ptr[7] = tmp4 + z1 + z3;\n"
   ]
  },
  {
   "cell_type": "code",
   "execution_count": 3,
   "metadata": {
    "collapsed": true
   },
   "outputs": [],
   "source": [
    "TEST_LINES=\"\"\"\n",
    "tmp0 = data_ptr[0] + data_ptr[7];\n",
    "tmp7 = data_ptr[0] - data_ptr[7];\n",
    "data_ptr[0] = tmp10 + tmp11;\n",
    "data_ptr[4] = tmp10 - tmp11;\n",
    "z1 = (tmp12 + tmp13) * 0.541196100;\n",
    "data_ptr[2] = z1 + tmp13 * 0.765366865;\n",
    "data_ptr[6] = z1 + tmp12 * - 1.847759065;\n",
    "z1 = tmp4 + tmp7;\n",
    "z5 = (z3 + z4) * 1.175875602;\n",
    "tmp4 *= 0.298631336;\n",
    "z1 *= -0.899976223;\n",
    "z3 += z5;\n",
    "data_ptr[7] = tmp4 + z1 + z3;\n",
    "\"\"\""
   ]
  },
  {
   "cell_type": "code",
   "execution_count": 24,
   "metadata": {
    "collapsed": true
   },
   "outputs": [],
   "source": [
    "OPS = ['*', '-', '+', '/']\n",
    "SPECIAL_OPS = ['*=', '+=', '-=', '/=']\n",
    "\n",
    "\n",
    "\n",
    "\n",
    "\"\"\"\n",
    "Parses the text line\n",
    "DEST = ARG1 (OP)  ... (OP) ARGN\n",
    "\"\"\"\n",
    "def parse_line(line):\n",
    "    if not '=' in line:\n",
    "        return\n",
    "    pline = line\n",
    "    pline.replace(\" \",\"\")\n",
    "    pline.replace(\";\",\"\")\n",
    "    for op in SPECIAL_OPS:\n",
    "        if op in line:\n",
    "            arg1 = pline.split(op)[0]\n",
    "            arg2 = pline.split(op)[1]\n",
    "            return (op, arg1.strip().replace(\";\",\"\"), arg2.strip().replace(\";\",\"\"))\n",
    "    r = pline.split('=')\n",
    "    dst = r[0]\n",
    "    args_op = r[1]\n",
    "    return dst\n",
    "\n",
    "SOP_TEXT = {\n",
    "    '+=': \"evaluator.add\",\n",
    "    '-=': \"evaluator.sub\",\n",
    "    '*=': \"evaluator.multiply\",\n",
    "    '/=': \"evaluator.multiply\"\n",
    "}\n",
    "def convert_expr(expr):\n",
    "    if not expr:\n",
    "        return \"\"\n",
    "    elif isinstance(expr, tuple):\n",
    "        if len(expr) == 3:\n",
    "            a, b, c = expr\n",
    "            if a in SPECIAL_OPS:\n",
    "                return \"{}({}, {});\".format(SOP_TEXT[a], b, c)\n",
    "            elif a in OPS:\n",
    "                return \"Ciphertext {}{}{}{}\"\n",
    "        if len(expr)\n"
   ]
  },
  {
   "cell_type": "code",
   "execution_count": 26,
   "metadata": {},
   "outputs": [
    {
     "name": "stdout",
     "output_type": "stream",
     "text": [
      "None\n",
      "\n",
      "tmp0 \n",
      "\n",
      "tmp7 \n",
      "\n",
      "data_ptr[0] \n",
      "\n",
      "data_ptr[4] \n",
      "\n",
      "z1 \n",
      "\n",
      "data_ptr[2] \n",
      "\n",
      "data_ptr[6] \n",
      "\n",
      "z1 \n",
      "\n",
      "z5 \n",
      "\n",
      "('*=', 'tmp4', '0.298631336')\n",
      "evaluator.multiply(tmp4, 0.298631336);\n",
      "('*=', 'z1', '-0.899976223')\n",
      "evaluator.multiply(z1, -0.899976223);\n",
      "('+=', 'z3', 'z5')\n",
      "evaluator.add(z3, z5);\n",
      "data_ptr[7] \n",
      "\n"
     ]
    }
   ],
   "source": [
    "for line in TEST_LINES.splitlines():\n",
    "    print(parse_line(line))\n",
    "    print(convert_expr(parse_line(line)))"
   ]
  },
  {
   "cell_type": "code",
   "execution_count": null,
   "metadata": {
    "collapsed": true
   },
   "outputs": [],
   "source": []
  },
  {
   "cell_type": "code",
   "execution_count": null,
   "metadata": {
    "collapsed": true
   },
   "outputs": [],
   "source": []
  }
 ],
 "metadata": {
  "kernelspec": {
   "display_name": "Python 2",
   "language": "python",
   "name": "python2"
  },
  "language_info": {
   "codemirror_mode": {
    "name": "ipython",
    "version": 2
   },
   "file_extension": ".py",
   "mimetype": "text/x-python",
   "name": "python",
   "nbconvert_exporter": "python",
   "pygments_lexer": "ipython2",
   "version": "2.7.14"
  }
 },
 "nbformat": 4,
 "nbformat_minor": 2
}
