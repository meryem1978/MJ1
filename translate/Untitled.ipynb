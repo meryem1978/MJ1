{
 "cells": [
  {
   "cell_type": "markdown",
   "metadata": {},
   "source": [
    "# Code Translator for FHE\n",
    "We need to transcribe a lot of code to work with Microsoft's SEAL Library. Therefore, we need a parser that reads in code, parses it lexically, and then outputs it in SEAL's format. Here's an example snippet that we have to parse and convert to SEAL's format.\n",
    "\n",
    "        tmp0 = data_ptr[0] + data_ptr[7];\n",
    "        tmp7 = data_ptr[0] - data_ptr[7];\n",
    "        data_ptr[0] = tmp10 + tmp11;\n",
    "        data_ptr[4] = tmp10 - tmp11;\n",
    "        z1 = (tmp12 + tmp13) * 0.541196100;\n",
    "        data_ptr[2] = z1 + tmp13 * 0.765366865;\n",
    "        data_ptr[6] = z1 + tmp12 * - 1.847759065;\n",
    "        z1 = tmp4 + tmp7;\n",
    "        z5 = (z3 + z4) * 1.175875602;\n",
    "        tmp4 *= 0.298631336;\n",
    "        z1 *= -0.899976223;\n",
    "        z3 += z5;\n",
    "        data_ptr[7] = tmp4 + z1 + z3;\n"
   ]
  },
  {
   "cell_type": "code",
   "execution_count": 2,
   "metadata": {},
   "outputs": [],
   "source": [
    "SPECIAL_OPERANDS = [\"*=\", \"-=\", \"+=\", \"/=\"]\n",
    "\"\"\"\n",
    "Parses the text line\n",
    "DEST = ARG1 (OP)  ... (OP) ARGN\n",
    "\"\"\"\n",
    "def parse_line(line):\n",
    "    return NotImplemented "
   ]
  },
  {
   "cell_type": "code",
   "execution_count": null,
   "metadata": {
    "collapsed": true
   },
   "outputs": [],
   "source": []
  }
 ],
 "metadata": {
  "kernelspec": {
   "display_name": "Python 2",
   "language": "python",
   "name": "python2"
  },
  "language_info": {
   "codemirror_mode": {
    "name": "ipython",
    "version": 2
   },
   "file_extension": ".py",
   "mimetype": "text/x-python",
   "name": "python",
   "nbconvert_exporter": "python",
   "pygments_lexer": "ipython2",
   "version": "2.7.14"
  }
 },
 "nbformat": 4,
 "nbformat_minor": 2
}
