{
 "cells": [
  {
   "cell_type": "markdown",
   "metadata": {},
   "source": [
    "# Viewing Results of FHE\n",
    "Note that FHE works with integers modulo a large prime, so there are no decimal points or floating point numbers by default. Therefore, we have to scale our results by SCALE_FACTOR. For testing, the format of our image files will be width on the first line, height on the second, and the raw pixel values following from rows then columns. "
   ]
  },
  {
   "cell_type": "code",
   "execution_count": 1,
   "metadata": {},
   "outputs": [],
   "source": [
    "import cv2\n",
    "import numpy as np\n",
    "import random\n",
    "from matplotlib import pyplot as plt\n",
    "\n",
    "%matplotlib inline\n",
    "\n",
    "DEFAULT_WIDTH = 8\n",
    "DEFAULT_HEIGHT = 8\n",
    "\n",
    "TEST_FHE_IMAGE = 'newkung.txt'"
   ]
  },
  {
   "cell_type": "code",
   "execution_count": 11,
   "metadata": {},
   "outputs": [],
   "source": [
    "\"\"\"\n",
    "Reads in a grayscale image in the following format:\n",
    "width\n",
    "height\n",
    "im[0][0]\n",
    "im[0][1]\n",
    "...\n",
    "im[w-1][h-1]\n",
    "\"\"\"\n",
    "def read_grayscale_image(fname):\n",
    "    f = open(TEST_FHE_IMAGE, 'r+')\n",
    "    w = int(f.readline())\n",
    "    h = int(f.readline())\n",
    "    image = list(map(lambda x: int(x),f.readlines()))\n",
    "    im = np.array(image)\n",
    "    \n",
    "    print(image)"
   ]
  },
  {
   "cell_type": "code",
   "execution_count": 10,
   "metadata": {},
   "outputs": [
    {
     "name": "stdout",
     "output_type": "stream",
     "text": [
      "[181, 192, 202, 140, 117, 130, 217, 219, 198, 206, 85, 21, 15, 37, 67, 225, 213, 139, 83, 50, 117, 137, 63, 140, 221, 129, 143, 181, 176, 129, 77, 140, 224, 170, 144, 142, 135, 127, 106, 156, 227, 230, 164, 165, 123, 157, 116, 242, 223, 228, 177, 156, 127, 148, 166, 238, 217, 218, 222, 141, 136, 108, 218, 218]\n"
     ]
    }
   ],
   "source": [
    "read_grayscale_image(TEST_FHE_IMAGE)"
   ]
  },
  {
   "cell_type": "code",
   "execution_count": null,
   "metadata": {},
   "outputs": [],
   "source": []
  }
 ],
 "metadata": {
  "kernelspec": {
   "display_name": "Python 3",
   "language": "python",
   "name": "python3"
  },
  "language_info": {
   "codemirror_mode": {
    "name": "ipython",
    "version": 3
   },
   "file_extension": ".py",
   "mimetype": "text/x-python",
   "name": "python",
   "nbconvert_exporter": "python",
   "pygments_lexer": "ipython3",
   "version": "3.5.2"
  }
 },
 "nbformat": 4,
 "nbformat_minor": 2
}
