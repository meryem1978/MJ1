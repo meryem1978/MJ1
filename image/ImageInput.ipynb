{
 "cells": [
  {
   "cell_type": "markdown",
   "metadata": {},
   "source": [
    "# Simple Image Compression Test\n",
    "We wish to test our FHE system with something easy, 2x image size reduction with grayscale images. To do this we will allow the user to input an image, compress it to 16 by 16 grayscale, and then pass it off to our server to get a response of a 8 by 8 grayscale image."
   ]
  },
  {
   "cell_type": "code",
   "execution_count": 12,
   "metadata": {},
   "outputs": [],
   "source": [
    "import cv2\n",
    "import numpy as np\n",
    "import random\n",
    "from matplotlib import pyplot as plt\n",
    "\n",
    "%matplotlib inline\n",
    "\n",
    "DEFAULT_WIDTH = 16\n",
    "DEFAULT_HEIGHT = 16\n",
    "\n",
    "TEST_IMAGE = 'kung.jpg'"
   ]
  },
  {
   "cell_type": "code",
   "execution_count": 13,
   "metadata": {},
   "outputs": [],
   "source": [
    "\"\"\"\n",
    "Resizes an image to 16x16 and then convert to\n",
    "grayscale for testing FHE resize on simple example\n",
    "\"\"\"\n",
    "def prepare_image(imname, dim=(DEFAULT_WIDTH, DEFAULT_HEIGHT)):\n",
    "    image = cv2.imread(imname)\n",
    "    image = cv2.resize(image, dim)\n",
    "    gray_image = cv2.cvtColor(image, cv2.COLOR_BGR2GRAY)\n",
    "    #plt.imshow(gray_image, cmap='gray')\n",
    "    return gray_image"
   ]
  },
  {
   "cell_type": "code",
   "execution_count": 14,
   "metadata": {},
   "outputs": [],
   "source": [
    "\"\"\"\n",
    "Prints an image to a file in a specific format\n",
    "Width\n",
    "Height\n",
    "im[0][0]\n",
    "im[0][1]  \n",
    "...\n",
    "There should be Width*Height+2 lines in total\n",
    "\"\"\"\n",
    "def prepare_file(image, fname):\n",
    "    h, w = image.shape\n",
    "    outfile = open(fname, 'w+')\n",
    "    outfile.write(str(h))\n",
    "    outfile.write(\"\\n\")\n",
    "    outfile.write(str(w))\n",
    "    outfile.write(\"\\n\")\n",
    "    for row in image:\n",
    "        for el in row:\n",
    "            outfile.write(str(el))\n",
    "            outfile.write(\"\\n\")\n",
    "    outfile.close()\n",
    "    \n"
   ]
  },
  {
   "cell_type": "code",
   "execution_count": 15,
   "metadata": {},
   "outputs": [
    {
     "name": "stdout",
     "output_type": "stream",
     "text": [
      "[[174 177 184 191 196 200 200 204 207 210 211 213 213 214 215 216]\n",
      " [184 189 194 199 206 208 129  27  36  15  19  77 224 219 223 224]\n",
      " [192 195 201 203 217  34  23  15  13  15  15  29  43 151 230 232]\n",
      " [201 205 207 215  53  38  30  17  18  16  53  51  18  56 201 238]\n",
      " [208 211 211  79  74  83  49  20  40 127 142 117  93  30  29 242]\n",
      " [216 219 216  51  81  95  84  47 144 157 153 136 106  26  48 241]\n",
      " [221 222 222  45 165 181 178 184 188 173 155 132 114  42  50 241]\n",
      " [221 223 227  25  66 160 181 181 166 178 142  87 115  40  26 245]\n",
      " [223 224 225  31 127 128 103 167 141 116 134 103 124  50  48 246]\n",
      " [225 225 226 200 167 154 149 150 139 145 133 139 135 118  87 243]\n",
      " [228 226 226 235 168 165 164 198 134  98 169 154 130 132 247 242]\n",
      " [228 227 227 232 152 173 151 150 141 121 170 135 117  88 240 242]\n",
      " [224 227 228 231 156 162  89 242 197  54 157 153 114 218 239 239]\n",
      " [219 222 224 232 237 154 149 146 130 130 141 142 122 212 237 237]\n",
      " [220 217 218 224 223 222 160 162 156 156 127 108 208 220 220 209]\n",
      " [218 216 217 216 217 229 107 135 128 106 114  86 221 224 221 224]]\n"
     ]
    }
   ],
   "source": [
    "im = prepare_image(TEST_IMAGE)\n",
    "print(im)"
   ]
  },
  {
   "cell_type": "code",
   "execution_count": 11,
   "metadata": {},
   "outputs": [],
   "source": [
    "prepare_file(im, 'kung.txt')"
   ]
  },
  {
   "cell_type": "code",
   "execution_count": null,
   "metadata": {},
   "outputs": [],
   "source": []
  }
 ],
 "metadata": {
  "kernelspec": {
   "display_name": "Python 3",
   "language": "python",
   "name": "python3"
  },
  "language_info": {
   "codemirror_mode": {
    "name": "ipython",
    "version": 3
   },
   "file_extension": ".py",
   "mimetype": "text/x-python",
   "name": "python",
   "nbconvert_exporter": "python",
   "pygments_lexer": "ipython3",
   "version": "3.5.2"
  }
 },
 "nbformat": 4,
 "nbformat_minor": 2
}
