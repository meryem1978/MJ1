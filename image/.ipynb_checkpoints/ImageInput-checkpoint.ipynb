{
 "cells": [
  {
   "cell_type": "markdown",
   "metadata": {},
   "source": [
    "# Simple Image Compression Test\n",
    "We wish to test our FHE system with something easy, 2x image size reduction with grayscale images. To do this we will allow the user to input an image, compress it to 16 by 16 grayscale, and then pass it off to our server to get a response of a 8 by 8 grayscale image."
   ]
  },
  {
   "cell_type": "code",
   "execution_count": 18,
   "metadata": {},
   "outputs": [],
   "source": [
    "import cv2\n",
    "import numpy as np\n",
    "import random\n",
    "from matplotlib import pyplot as plt\n",
    "\n",
    "%matplotlib inline\n",
    "\n",
    "DEFAULT_WIDTH = 16\n",
    "DEFAULT_HEIGHT = 16\n",
    "\n",
    "TEST_IMAGE = 'kung.jpg'"
   ]
  },
  {
   "cell_type": "code",
   "execution_count": 22,
   "metadata": {},
   "outputs": [],
   "source": [
    "\"\"\"\n",
    "Resizes an image to 16x16 and then convert to\n",
    "grayscale for testing FHE resize on simple example\n",
    "\"\"\"\n",
    "def prepare_image(imname, dim=(DEFAULT_WIDTH, DEFAULT_HEIGHT)):\n",
    "    image = cv2.imread(imname)\n",
    "    image = cv2.resize(image, dim)\n",
    "    gray_image = cv2.cvtColor(image, cv2.COLOR_BGR2GRAY)\n",
    "    #plt.imshow(gray_image, cmap='gray')\n",
    "    return gray_image"
   ]
  },
  {
   "cell_type": "code",
   "execution_count": 24,
   "metadata": {},
   "outputs": [
    {
     "name": "stdout",
     "output_type": "stream",
     "text": [
      "[[174 177 184 191 196 200 200 204 207 210 211 213 213 214 215 216]\n",
      " [184 189 194 199 206 208 129  27  36  15  19  77 224 219 223 224]\n",
      " [192 195 201 203 217  34  23  15  13  15  15  29  43 151 230 232]\n",
      " [201 205 207 215  53  38  30  17  18  16  53  51  18  56 201 238]\n",
      " [208 211 211  79  74  83  49  20  40 127 142 116  93  30  29 242]\n",
      " [216 219 216  51  81  95  84  47 144 157 153 136 106  26  48 241]\n",
      " [221 222 222  45 165 180 178 184 188 173 155 132 114  42  50 241]\n",
      " [221 223 227  25  65 161 181 181 167 178 142  87 115  40  26 245]\n",
      " [223 224 225  31 127 128 103 167 141 116 134 103 124  50  48 246]\n",
      " [225 225 226 200 167 154 149 150 139 145 133 139 135 118  87 243]\n",
      " [228 226 226 235 168 165 164 197 133  98 169 154 130 132 247 242]\n",
      " [228 227 227 232 152 173 151 150 141 121 170 135 117  88 240 242]\n",
      " [224 227 228 231 156 162  90 242 197  54 158 153 115 219 239 239]\n",
      " [219 222 224 232 237 154 149 146 131 130 141 142 122 212 237 237]\n",
      " [220 217 218 224 223 222 159 162 156 156 127 107 208 220 220 209]\n",
      " [218 216 217 216 217 229 107 135 128 106 113  87 220 224 221 224]]\n"
     ]
    },
    {
     "data": {
      "image/png": "[encoded data removed]",
      "text/plain": [
       "<matplotlib.figure.Figure at 0x10f7f9090>"
      ]
     },
     "metadata": {},
     "output_type": "display_data"
    }
   ],
   "source": [
    "im = prepare_image(TEST_IMAGE)\n",
    "plt.imshow(gray_image, cmap='gray')\n",
    "print(im)"
   ]
  },
  {
   "cell_type": "code",
   "execution_count": null,
   "metadata": {},
   "outputs": [],
   "source": []
  }
 ],
 "metadata": {
  "kernelspec": {
   "display_name": "Python 2",
   "language": "python",
   "name": "python2"
  },
  "language_info": {
   "codemirror_mode": {
    "name": "ipython",
    "version": 2
   },
   "file_extension": ".py",
   "mimetype": "text/x-python",
   "name": "python",
   "nbconvert_exporter": "python",
   "pygments_lexer": "ipython2",
   "version": "2.7.14"
  }
 },
 "nbformat": 4,
 "nbformat_minor": 2
}
